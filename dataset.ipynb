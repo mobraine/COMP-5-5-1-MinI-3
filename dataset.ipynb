{
 "cells": [
  {
   "cell_type": "code",
   "execution_count": null,
   "metadata": {},
   "outputs": [],
   "source": [
    "import pandas as pd \n",
    "import numpy as np\n",
    "import h5py\n",
    "import matplotlib.pyplot as plt\n",
    "import cv2"
   ]
  },
  {
   "cell_type": "code",
   "execution_count": null,
   "metadata": {},
   "outputs": [],
   "source": [
    "mnist_f = h5py.File('dataset/MNIST_synthetic.h5', 'r')"
   ]
  },
  {
   "cell_type": "code",
   "execution_count": null,
   "metadata": {},
   "outputs": [],
   "source": [
    "print(mnist_f.keys())\n",
    "train_set = mnist_f['train_dataset']\n",
    "train_labels = mnist_f['train_labels']\n",
    "test_set = mnist_f['test_dataset']\n",
    "train_labels[0]"
   ]
  },
  {
   "cell_type": "code",
   "execution_count": null,
   "metadata": {},
   "outputs": [],
   "source": [
    "plt.subplots(3, 4, figsize=(64, 64))\n",
    "\n",
    "count = 0\n",
    "\n",
    "for i in range(12):\n",
    "    plt.subplot(3, 4, 1+i)\n",
    "    plt.imshow(test_set[i].reshape(64, 64))\n",
    "plt.show()"
   ]
  },
  {
   "cell_type": "code",
   "execution_count": null,
   "metadata": {},
   "outputs": [],
   "source": [
    "def get_contour_precedence(contour):\n",
    "    origin = cv2.boundingRect(contour)\n",
    "    return origin[0]"
   ]
  },
  {
   "cell_type": "code",
   "execution_count": null,
   "metadata": {},
   "outputs": [],
   "source": [
    "# try to split the first image 8 5 0 3 - an example\n",
    "plt.subplots(10, 10, figsize=(64, 64))\n",
    "for i in range( 100 ):\n",
    "    test_image = train_set[i+2172]\n",
    "    original_img = test_image.copy()\n",
    "    ret, thresh = cv2.threshold(test_image.copy(), 0, 255, cv2.THRESH_BINARY)\n",
    "    contours, _ = cv2.findContours(thresh.copy(), cv2.RETR_EXTERNAL, cv2.CHAIN_APPROX_SIMPLE)\n",
    "\n",
    "    preprocessed_digits = []\n",
    "\n",
    "    contours.sort(key=lambda ct: get_contour_precedence(ct))\n",
    "\n",
    "    for c in contours:\n",
    "        x, y, w, h = cv2.boundingRect(c)\n",
    "        #print(f'contour dimension, width: {w}, height: {h}')\n",
    "        if (w < 8 and h < 8):\n",
    "            continue\n",
    "\n",
    "        digit = original_img[y:y+h, x:x+w]\n",
    "\n",
    "        cv2.rectangle(test_image, (x, y), (x+w, y+h), color=(255), thickness=1)\n",
    "        resized_digit = cv2.resize(digit, (18, 18))\n",
    "        padded_digit = np.pad(resized_digit, ((5,5),(5,5)), \"constant\", constant_values=0)\n",
    "        preprocessed_digits.append(padded_digit)\n",
    "\n",
    "    # print(\"\\n\\n\\n----------------Contoured Image--------------------\")\n",
    "    plt.subplot(10, 10, 1 + i)\n",
    "    plt.imshow(test_image.reshape(64, 64), cmap=\"gray\")\n",
    "\n",
    "    inp = np.array(preprocessed_digits)\n",
    "\n"
   ]
  },
  {
   "cell_type": "code",
   "execution_count": null,
   "metadata": {},
   "outputs": [],
   "source": [
    "# try to split the first image 8 5 0 3 - an example\n",
    "plt.subplots(10, 10, figsize=(64, 64))\n",
    "for i in range( 100 ):\n",
    "    test_image = test_set[i]\n",
    "    original_img = test_image.copy()\n",
    "    ret, thresh = cv2.threshold(test_image.copy(), 100, 255, cv2.THRESH_BINARY)\n",
    "    contours, _ = cv2.findContours(thresh.copy(), cv2.RETR_EXTERNAL, cv2.CHAIN_APPROX_SIMPLE)\n",
    "\n",
    "    preprocessed_digits = []\n",
    "\n",
    "    contours.sort(key=lambda ct: get_contour_precedence(ct))\n",
    "\n",
    "    for c in contours:\n",
    "        x, y, w, h = cv2.boundingRect(c)\n",
    "        #print(f'contour dimension, width: {w}, height: {h}')\n",
    "        if w < 4 and h < 4:\n",
    "            continue\n",
    "\n",
    "        digit = original_img[y:y+h, x:x+w]\n",
    "\n",
    "        cv2.rectangle(test_image, (x, y), (x+w, y+h), color=(255), thickness=1)\n",
    "        resized_digit = cv2.resize(digit, (18, 18))\n",
    "        padded_digit = np.pad(resized_digit, ((5,5),(5,5)), \"constant\", constant_values=0)\n",
    "        preprocessed_digits.append(padded_digit)\n",
    "\n",
    "    # print(\"\\n\\n\\n----------------Contoured Image--------------------\")\n",
    "    plt.subplot(10, 10, 1 + i)\n",
    "    plt.imshow(test_image.reshape(64, 64), cmap=\"gray\")\n",
    "\n",
    "    inp = np.array(preprocessed_digits)"
   ]
  },
  {
   "cell_type": "code",
   "execution_count": null,
   "metadata": {},
   "outputs": [],
   "source": [
    "# try to split the first image 8 5 0 3 - an example\n",
    "def split_image(test_image, index = -1):\n",
    "    original_img = test_image.copy()\n",
    "    ret, thresh = cv2.threshold(test_image.copy(), 50, 255, cv2.THRESH_BINARY)\n",
    "    contours, _ = cv2.findContours(thresh.copy(), cv2.RETR_EXTERNAL, cv2.CHAIN_APPROX_SIMPLE)\n",
    "    preprocessed_digits = []\n",
    "\n",
    "    contours.sort(key=lambda ct: get_contour_precedence(ct))\n",
    "\n",
    "    for c in contours:\n",
    "        x, y, w, h = cv2.boundingRect(c)\n",
    "        if w > 17 or (w > 3 and w < 6 and h > 4 and h < 7):\n",
    "            print(index)\n",
    "        if (w < 7 and h < 5):\n",
    "            continue\n",
    "        digit = original_img[y:y+h, x:x+w]\n",
    "        resized_digit = cv2.resize(digit, (18, 18))\n",
    "        padded_digit = np.pad(resized_digit, ((5,5),(5,5)), \"constant\", constant_values=0)\n",
    "        preprocessed_digits.append(padded_digit)\n",
    "\n",
    "    return preprocessed_digits\n",
    "\n",
    "def test_split(test_image, label):\n",
    "    return len(split_image(test_image)) == len(label[label != 10])\n"
   ]
  },
  {
   "cell_type": "code",
   "execution_count": null,
   "metadata": {},
   "outputs": [],
   "source": [
    "wrongs = []\n",
    "for i in range(len(train_set)):\n",
    "    if not test_split(train_set[i], train_labels[i]):\n",
    "        wrongs.append(i)\n",
    "        print(i)\n",
    "len(wrongs)\n"
   ]
  },
  {
   "cell_type": "code",
   "execution_count": null,
   "metadata": {},
   "outputs": [],
   "source": [
    "len(wrongs) / len(train_labels)"
   ]
  },
  {
   "cell_type": "code",
   "execution_count": null,
   "metadata": {},
   "outputs": [],
   "source": [
    "#Gnerate wrong images\n",
    "plt.subplots(11, 11, figsize=(64, 64))\n",
    "for i in range( 118 ):\n",
    "    ax = plt.subplot(11, 11, 1 + i)\n",
    "    ax.title.set_text(f'{train_labels[wrongs[i]]}')\n",
    "    plt.imshow(train_set[wrongs[i]].reshape(64, 64), cmap=\"gray_r\")"
   ]
  },
  {
   "cell_type": "code",
   "execution_count": null,
   "metadata": {},
   "outputs": [],
   "source": [
    "# try to split the first image 8 5 0 3 - an example\n",
    "plt.subplots(5, 5, figsize=(64, 64))\n",
    "for i in range( 25 ):\n",
    "    test_image = train_set[wrongs[i]]\n",
    "    original_img = test_image.copy()\n",
    "    ret, thresh = cv2.threshold(test_image.copy(), 50, 255, cv2.THRESH_BINARY)\n",
    "    contours, _ = cv2.findContours(thresh.copy(), cv2.RETR_EXTERNAL, cv2.CHAIN_APPROX_SIMPLE)\n",
    "\n",
    "    preprocessed_digits = []\n",
    "\n",
    "    contours.sort(key=lambda ct: get_contour_precedence(ct))\n",
    "\n",
    "    for c in contours:\n",
    "        x, y, w, h = cv2.boundingRect(c)\n",
    "        #print(f'contour dimension, width: {w}, height: {h}')\n",
    "        if (w < 7 and h < 5):\n",
    "            continue\n",
    "\n",
    "        digit = original_img[y:y+h, x:x+w]\n",
    "\n",
    "        cv2.rectangle(test_image, (x, y), (x+w, y+h), color=(255), thickness=1)\n",
    "        resized_digit = cv2.resize(digit, (18, 18))\n",
    "        padded_digit = np.pad(resized_digit, ((5,5),(5,5)), \"constant\", constant_values=0)\n",
    "        preprocessed_digits.append(padded_digit)\n",
    "\n",
    "    # print(\"\\n\\n\\n----------------Contoured Image--------------------\")\n",
    "    plt.subplot(5, 5, 1 + i)\n",
    "    plt.imshow(test_image.reshape(64, 64), cmap=\"gray\")\n",
    "\n",
    "    inp = np.array(preprocessed_digits)\n",
    "\n"
   ]
  },
  {
   "cell_type": "code",
   "execution_count": null,
   "metadata": {},
   "outputs": [],
   "source": [
    "def clear_wrong_splits(train_set, wrongs):\n",
    "    result = []\n",
    "    for i in range(len(train_set)):\n",
    "        if i not in wrongs:\n",
    "            result.append(train_set[i])\n",
    "    return np.array(result)\n",
    "\n",
    "cleaned_train_set = clear_wrong_splits(train_set, wrongs)\n",
    "cleaned_train_labels = clear_wrong_splits(train_labels, wrongs)"
   ]
  },
  {
   "cell_type": "code",
   "execution_count": null,
   "metadata": {},
   "outputs": [],
   "source": [
    "print(cleaned_train_set.shape)\n",
    "print(cleaned_train_labels.shape)"
   ]
  },
  {
   "cell_type": "code",
   "execution_count": null,
   "metadata": {},
   "outputs": [],
   "source": [
    "new_train_set = []\n",
    "new_train_labels = []\n",
    "new_test_set = []\n",
    "test_set_index = []\n",
    "print(np.array(cleaned_train_set).shape)\n",
    "print(np.array(test_set).shape)\n",
    "for i in range(len(cleaned_train_set)):\n",
    "    cur_labels = cleaned_train_labels[i]\n",
    "    for j, digit_img in enumerate(split_image(cleaned_train_set[i])):\n",
    "        new_train_set.append(digit_img)\n",
    "        new_train_labels.append(cur_labels[j])\n",
    "        \n",
    "for i in range(len(test_set)):\n",
    "    for j, digit_img in enumerate(split_image(test_set[i], index = i)):\n",
    "        new_test_set.append(digit_img)\n",
    "        test_set_index.append(j)\n",
    "        \n",
    "print(np.array(new_train_set).shape)\n",
    "print(np.array(new_test_set).shape)\n",
    "print(np.array(test_set_index).shape)"
   ]
  },
  {
   "cell_type": "code",
   "execution_count": null,
   "metadata": {},
   "outputs": [],
   "source": [
    "new_train_set = np.array(new_train_set)\n",
    "new_train_labels = np.array(new_train_labels)\n",
    "new_test_set = np.array(new_test_set)\n",
    "print(new_train_set.shape)\n",
    "print(new_test_set.shape)"
   ]
  },
  {
   "cell_type": "code",
   "execution_count": null,
   "metadata": {},
   "outputs": [],
   "source": [
    "plt.subplots(10, 10, figsize=(28, 28))\n",
    "for i in range( 100 ):\n",
    "    ax = plt.subplot(10, 10, 1 + i)\n",
    "    ax.title.set_text(f'{new_train_labels[i+152251]}')\n",
    "    plt.imshow(new_train_set[i+152251].reshape(28, 28), cmap=\"gray\")\n",
    "    \n",
    "\n"
   ]
  },
  {
   "cell_type": "code",
   "execution_count": null,
   "metadata": {},
   "outputs": [],
   "source": [
    "%store new_train_set\n",
    "%store new_train_labels\n",
    "%store new_test_set"
   ]
  },
  {
   "cell_type": "code",
   "execution_count": null,
   "metadata": {},
   "outputs": [],
   "source": [
    "h5f = h5py.File('dataset/singleDigits_set.h5', 'w')\n",
    "h5f.create_dataset('training_data', data=new_train_set)\n",
    "h5f.create_dataset('training_labels', data=new_train_labels)\n",
    "h5f.create_dataset('test_data', data=new_test_set)\n",
    "h5f.close()"
   ]
  },
  {
   "cell_type": "code",
   "execution_count": null,
   "metadata": {},
   "outputs": [],
   "source": [
    "test_set_index = np.array(test_set_index)\n",
    "%store test_set_index\n",
    "h5f = h5py.File('dataset/test_set_index.h5', 'w')\n",
    "h5f.create_dataset('test_set_index', data=test_set_index)\n",
    "h5f.close()"
   ]
  },
  {
   "cell_type": "code",
   "execution_count": null,
   "metadata": {},
   "outputs": [],
   "source": [
    "cc=0\n",
    "for index in range(len(test_set_index)):\n",
    "    if(test_set_index[index]==0):\n",
    "        cc += 1\n",
    "print(cc)\n",
    "test_set_index\n"
   ]
  },
  {
   "cell_type": "code",
   "execution_count": null,
   "metadata": {},
   "outputs": [],
   "source": []
  }
 ],
 "metadata": {
  "kernelspec": {
   "display_name": "Python 3",
   "language": "python",
   "name": "python3"
  },
  "language_info": {
   "codemirror_mode": {
    "name": "ipython",
    "version": 3
   },
   "file_extension": ".py",
   "mimetype": "text/x-python",
   "name": "python",
   "nbconvert_exporter": "python",
   "pygments_lexer": "ipython3",
   "version": "3.8.5"
  }
 },
 "nbformat": 4,
 "nbformat_minor": 4
}
