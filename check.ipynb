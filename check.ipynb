{
 "cells": [
  {
   "cell_type": "code",
   "execution_count": null,
   "metadata": {
    "id": "W8HOra7zSZaC"
   },
   "outputs": [],
   "source": [
    "import torch\n",
    "import torchvision\n",
    "import numpy as np\n",
    "import torch.nn as nn\n",
    "import torch.nn.functional as F\n",
    "import h5py\n",
    "import matplotlib.pyplot as plt\n",
    "\n",
    "from sklearn.preprocessing import OneHotEncoder\n",
    "import timeit\n",
    "from sklearn.model_selection import train_test_split\n",
    "from sklearn.model_selection import KFold\n",
    "from sklearn.datasets import fetch_openml\n",
    "from sklearn.utils import check_random_state\n",
    "import csv"
   ]
  },
  {
   "cell_type": "code",
   "execution_count": null,
   "metadata": {
    "id": "y29usqULxRIU"
   },
   "outputs": [],
   "source": [
    "#DATASET splitted  \n",
    "allSets = h5py.File('dataset/singleDigits_set.h5','r')\n",
    "print(allSets.keys())\n",
    "train_set = allSets['training_data']\n",
    "train_labels = allSets['training_labels']\n",
    "real_test_set = allSets['test_data']\n",
    "\n",
    "train_set = np.array(train_set)\n",
    "train_labels = np.array(train_labels)\n",
    "real_test_set = np.array(real_test_set)\n",
    "print(\"train_set.shape is \" + str(train_set.shape))\n",
    "print(\"real_test_set.shape is \" + str(real_test_set.shape))\n",
    "\n"
   ]
  },
  {
   "cell_type": "code",
   "execution_count": null,
   "metadata": {},
   "outputs": [],
   "source": [
    "# need to transform the dataset into a Tensor, how??? first transform images into array\n",
    "train_set = np.asarray(train_set)\n",
    "print(train_set.shape)\n",
    "#print(train_set[0])\n",
    "print(train_labels.shape)\n",
    "#after split there are 167339 digits"
   ]
  },
  {
   "cell_type": "code",
   "execution_count": null,
   "metadata": {},
   "outputs": [],
   "source": [
    "import numpy as np\n",
    "import pandas as pd\n",
    "import matplotlib.pyplot as plt\n",
    "def load_dataset():\n",
    "\n",
    "    cv = KFold(n_splits=100000)\n",
    "    count = 1\n",
    "    for train_index, test_index in cv.split(train_set): # Run 5 times\n",
    "        count += 1\n",
    "        x, x_test, y, y_test = train_set[train_index], train_set[test_index], train_labels[train_index], train_labels[test_index]\n",
    "        if(count==2):\n",
    "            print(train_index)\n",
    "            print(test_index)\n",
    "            break\n",
    "    print(\"x.shape = \" + str(x.shape))\n",
    "    print(\"y.shape = \" + str(y.shape))\n",
    "    \n",
    "    y = y.reshape(1,-1)\n",
    "    y_test = y_test.reshape(1, -1)\n",
    "\n",
    "    y = np.squeeze(y)\n",
    "    y = pd.Series(y)\n",
    "    y = pd.get_dummies(y)\n",
    "    y = np.array(y).T\n",
    "\n",
    "    y_test = np.squeeze(y_test)\n",
    "    y_test = pd.Series(y_test)\n",
    "    y_test = pd.get_dummies(y_test)\n",
    "    y_test = np.array(y_test).T  \n",
    "\n",
    "    train_set_x_orig, train_set_y, test_set_x_orig, test_set_y = x,y,x_test,y_test\n",
    "    return train_set_x_orig, train_set_y, test_set_x_orig, test_set_y\n",
    "load_dataset()"
   ]
  },
  {
   "cell_type": "code",
   "execution_count": null,
   "metadata": {},
   "outputs": [],
   "source": [
    "    train_set_x_orig, train_set_y, test_set_x_orig, test_set_y = load_dataset()\n",
    "    train_set_x = train_set_x_orig.reshape((train_set_x_orig.shape[0], -1)).T / 255 \n",
    "    test_set_x = test_set_x_orig.reshape((test_set_x_orig.shape[0], -1)).T / 255 \n",
    "    \n",
    "    real_test_set_dim = real_test_set.reshape((real_test_set.shape[0], -1)).T / 255 \n",
    "    \n",
    "    \n",
    "    print(np.absolute(train_set_x.T[0].shape))\n",
    "    print(np.absolute(train_set_y.T[4]))\n",
    "    print(np.absolute(train_set_x.T[4,] - train_set_x.T[4,]).sum())"
   ]
  },
  {
   "cell_type": "code",
   "execution_count": null,
   "metadata": {},
   "outputs": [],
   "source": [
    "#Read Index\n",
    "test_set_index = h5py.File('dataset/test_set_index.h5','r')\n",
    "print(test_set_index.keys())\n",
    "set_index = test_set_index['test_set_index']\n"
   ]
  },
  {
   "cell_type": "code",
   "execution_count": null,
   "metadata": {},
   "outputs": [],
   "source": [
    "\n",
    "def findPosition(index1): # index1 is the 0-13999\n",
    "    result = []\n",
    "    temp_position = -1\n",
    "    for i in range(len(set_index)):\n",
    "        if(set_index[i] == 0):\n",
    "            temp_position += 1\n",
    "        if(temp_position == index1):\n",
    "            result.append(i)\n",
    "            i += 1\n",
    "            while(set_index[i] != 0):\n",
    "                result.append(i)\n",
    "                i += 1\n",
    "            return result\n",
    "        \n",
    "def findConvertPosition(index3): # index1 is the 0-13999\n",
    "    temp_position2 = -1\n",
    "    for i in range(len(set_index)):\n",
    "        if(set_index[i] == 0):\n",
    "            temp_position2 += 1\n",
    "        if(i == index3):\n",
    "            return temp_position2\n",
    "        \n",
    "print(findPosition(12))\n",
    "print(findConvertPosition(29628))"
   ]
  },
  {
   "cell_type": "code",
   "execution_count": null,
   "metadata": {},
   "outputs": [],
   "source": [
    "# Check if there is the same image in training set\n",
    "def printCorrectResult(index2):\n",
    "    a1 = []\n",
    "    a1 = findPosition(index2)\n",
    "    for i in range(a1[0], a1[0]+len(a1)): # loop over Kaggle test\n",
    "        print(\"----------------------\")\n",
    "        isDetected = False\n",
    "        for j in range(0, len(train_set_y.T)): # loop over MNIST images\n",
    "            if np.absolute((real_test_set_dim.T[i,] - train_set_x.T[j,])).sum() == 0: # If there is a same digit in training set.\n",
    "                print(\"Found in train \" + str(j))\n",
    "                print(np.argmax(train_set_y.T[j], axis = 0))\n",
    "                isDetected = True\n",
    "        for j2 in range(0, len(real_test_set_dim.T)):\n",
    "            if np.absolute((real_test_set_dim.T[i,] - real_test_set_dim.T[j2,])).sum() == 0 and i != j2:\n",
    "                print(\"Found in test \" + str(j2))\n",
    "        if(isDetected == False):\n",
    "             print(\"Not detected in image \" + str(i))\n",
    "        if(i % 10 == 9):\n",
    "            print(str(i) + \"isfinished\")\n",
    "        \n",
    "printCorrectResult(7680)"
   ]
  },
  {
   "cell_type": "code",
   "execution_count": null,
   "metadata": {},
   "outputs": [],
   "source": [
    "# Check all the answers\n",
    "def checkCorrectResult(index2):\n",
    "    c0 = 0\n",
    "    answer = []\n",
    "    a1 = []\n",
    "    a1 = findPosition(index2)\n",
    "    for i in range(a1[0], a1[0]+len(a1)): # loop over Kaggle test\n",
    "        isDetected = False\n",
    "        for j in range(0, 167444): # loop over MNIST images\n",
    "            if np.absolute((real_test_set_dim.T[i,] - train_set_x.T[j,])).sum() == 0:\n",
    "                isDetected = True\n",
    "                answer.append(np.argmax(train_set_y.T[j], axis = 0))\n",
    "                break\n",
    "        if(isDetected == False):\n",
    "            answer.append(-1)   \n",
    "    while (len(a1) + c0 < 5):\n",
    "        c0 += 1\n",
    "        answer.append(1)\n",
    "        answer.append(0)\n",
    "    return answer\n",
    "\n",
    "with open(\"generatedAnswers/finalResult.csv\", 'rt', newline='') as f:\n",
    "    data = csv.reader(f)\n",
    "    c1 = 0\n",
    "    for row in data:       \n",
    "        if(c1 != 0):\n",
    "            cp1 = checkCorrectResult(c1-1)\n",
    "            cp2 = row[1]\n",
    "            if(len(cp1) != len(cp2)):\n",
    "                print(\"length problem in \" +str(c1))\n",
    "                c1 += 1\n",
    "                continue\n",
    "            for index in range (0, len(cp2)):\n",
    "                if(int(cp1[index]) != -1 and (int(cp1[index]) != int(cp2[index]))):\n",
    "                    print(cp1)\n",
    "                    print(cp2)\n",
    "                    print(\"error in \" +str(c1))\n",
    "        c1 += 1\n",
    "        if(c1 % 50 == 0):\n",
    "            print(str(c1) + \"is done\")"
   ]
  },
  {
   "cell_type": "code",
   "execution_count": null,
   "metadata": {},
   "outputs": [],
   "source": []
  }
 ],
 "metadata": {
  "colab": {
   "name": "COMP 551 Mini Project 3.ipynb",
   "provenance": []
  },
  "kernelspec": {
   "display_name": "Python 3",
   "language": "python",
   "name": "python3"
  },
  "language_info": {
   "codemirror_mode": {
    "name": "ipython",
    "version": 3
   },
   "file_extension": ".py",
   "mimetype": "text/x-python",
   "name": "python",
   "nbconvert_exporter": "python",
   "pygments_lexer": "ipython3",
   "version": "3.8.5"
  }
 },
 "nbformat": 4,
 "nbformat_minor": 4
}
